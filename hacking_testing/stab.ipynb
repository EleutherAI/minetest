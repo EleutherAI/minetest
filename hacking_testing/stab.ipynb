{
 "cells": [
  {
   "cell_type": "code",
   "execution_count": 1,
   "id": "b7120aaa-4083-4b42-9ef9-696782ebd1e8",
   "metadata": {},
   "outputs": [
    {
     "name": "stdout",
     "output_type": "stream",
     "text": [
      "Looking in indexes: https://pypi.org/simple, https://pypi.ngc.nvidia.com\n",
      "Requirement already satisfied: stable-baselines3 in /home/ax37/anaconda3/lib/python3.8/site-packages (1.6.2)\n",
      "Requirement already satisfied: importlib-metadata~=4.13 in /home/ax37/anaconda3/lib/python3.8/site-packages (from stable-baselines3) (4.13.0)\n",
      "Requirement already satisfied: matplotlib in /home/ax37/anaconda3/lib/python3.8/site-packages (from stable-baselines3) (3.5.2)\n",
      "Requirement already satisfied: cloudpickle in /home/ax37/anaconda3/lib/python3.8/site-packages (from stable-baselines3) (2.2.0)\n",
      "Requirement already satisfied: gym==0.21 in /home/ax37/anaconda3/lib/python3.8/site-packages (from stable-baselines3) (0.21.0)\n",
      "Requirement already satisfied: pandas in /home/ax37/anaconda3/lib/python3.8/site-packages (from stable-baselines3) (1.4.4)\n",
      "Requirement already satisfied: numpy in /home/ax37/anaconda3/lib/python3.8/site-packages (from stable-baselines3) (1.22.0)\n",
      "Requirement already satisfied: torch>=1.11 in /home/ax37/anaconda3/lib/python3.8/site-packages (from stable-baselines3) (1.13.0)\n",
      "Requirement already satisfied: zipp>=0.5 in /home/ax37/anaconda3/lib/python3.8/site-packages (from importlib-metadata~=4.13->stable-baselines3) (3.8.1)\n",
      "Requirement already satisfied: nvidia-cudnn-cu11==8.5.0.96 in /home/ax37/anaconda3/lib/python3.8/site-packages (from torch>=1.11->stable-baselines3) (8.5.0.96)\n",
      "Requirement already satisfied: nvidia-cublas-cu11==11.10.3.66 in /home/ax37/anaconda3/lib/python3.8/site-packages (from torch>=1.11->stable-baselines3) (11.10.3.66)\n",
      "Requirement already satisfied: nvidia-cuda-runtime-cu11==11.7.99 in /home/ax37/anaconda3/lib/python3.8/site-packages (from torch>=1.11->stable-baselines3) (11.7.99)\n",
      "Requirement already satisfied: typing-extensions in /home/ax37/anaconda3/lib/python3.8/site-packages (from torch>=1.11->stable-baselines3) (4.4.0)\n",
      "Requirement already satisfied: nvidia-cuda-nvrtc-cu11==11.7.99 in /home/ax37/anaconda3/lib/python3.8/site-packages (from torch>=1.11->stable-baselines3) (11.7.99)\n",
      "Requirement already satisfied: wheel in /home/ax37/anaconda3/lib/python3.8/site-packages (from nvidia-cublas-cu11==11.10.3.66->torch>=1.11->stable-baselines3) (0.38.4)\n",
      "Requirement already satisfied: setuptools in /home/ax37/anaconda3/lib/python3.8/site-packages (from nvidia-cublas-cu11==11.10.3.66->torch>=1.11->stable-baselines3) (65.6.3)\n",
      "Requirement already satisfied: kiwisolver>=1.0.1 in /home/ax37/anaconda3/lib/python3.8/site-packages (from matplotlib->stable-baselines3) (1.4.4)\n",
      "Requirement already satisfied: fonttools>=4.22.0 in /home/ax37/anaconda3/lib/python3.8/site-packages (from matplotlib->stable-baselines3) (4.34.4)\n",
      "Requirement already satisfied: pyparsing>=2.2.1 in /home/ax37/anaconda3/lib/python3.8/site-packages (from matplotlib->stable-baselines3) (3.0.9)\n",
      "Requirement already satisfied: cycler>=0.10 in /home/ax37/anaconda3/lib/python3.8/site-packages (from matplotlib->stable-baselines3) (0.11.0)\n",
      "Requirement already satisfied: pillow>=6.2.0 in /home/ax37/anaconda3/lib/python3.8/site-packages (from matplotlib->stable-baselines3) (9.3.0)\n",
      "Requirement already satisfied: packaging>=20.0 in /home/ax37/anaconda3/lib/python3.8/site-packages (from matplotlib->stable-baselines3) (21.3)\n",
      "Requirement already satisfied: python-dateutil>=2.7 in /home/ax37/anaconda3/lib/python3.8/site-packages (from matplotlib->stable-baselines3) (2.8.2)\n",
      "Requirement already satisfied: pytz>=2020.1 in /home/ax37/anaconda3/lib/python3.8/site-packages (from pandas->stable-baselines3) (2022.6)\n",
      "Requirement already satisfied: six>=1.5 in /home/ax37/anaconda3/lib/python3.8/site-packages (from python-dateutil>=2.7->matplotlib->stable-baselines3) (1.16.0)\n"
     ]
    }
   ],
   "source": [
    "!pip install stable-baselines3\n",
    "import stable_baselines3"
   ]
  },
  {
   "cell_type": "code",
   "execution_count": 2,
   "id": "30299731-ef99-4e99-b556-7bbfa362f69c",
   "metadata": {},
   "outputs": [
    {
     "name": "stdout",
     "output_type": "stream",
     "text": [
      "fatal: destination path 'vpt-minetest' already exists and is not an empty directory.\n"
     ]
    }
   ],
   "source": [
    "!git clone https://github.com/rk1a/vpt-minetest"
   ]
  },
  {
   "cell_type": "code",
   "execution_count": 3,
   "id": "6d03423d-4f8c-41c7-a51c-4027d64e4446",
   "metadata": {},
   "outputs": [
    {
     "name": "stdout",
     "output_type": "stream",
     "text": [
      "--2023-01-29 15:08:36--  https://openaipublic.blob.core.windows.net/minecraft-rl/models/foundation-model-2x.weights\n",
      "Resolving openaipublic.blob.core.windows.net (openaipublic.blob.core.windows.net)... 20.150.77.132\n",
      "Connecting to openaipublic.blob.core.windows.net (openaipublic.blob.core.windows.net)|20.150.77.132|:443... connected.\n",
      "HTTP request sent, awaiting response... 200 OK\n",
      "\n",
      "    The file is already fully retrieved; nothing to do.\n",
      "\n",
      "--2023-01-29 15:08:37--  https://openaipublic.blob.core.windows.net/minecraft-rl/models/2x.model\n",
      "Resolving openaipublic.blob.core.windows.net (openaipublic.blob.core.windows.net)... 20.150.77.132\n",
      "Connecting to openaipublic.blob.core.windows.net (openaipublic.blob.core.windows.net)|20.150.77.132|:443... connected.\n",
      "HTTP request sent, awaiting response... 200 OK\n",
      "\n",
      "    The file is already fully retrieved; nothing to do.\n",
      "\n"
     ]
    }
   ],
   "source": [
    "!wget -c https://openaipublic.blob.core.windows.net/minecraft-rl/models/foundation-model-2x.weights\n",
    "!wget -c https://openaipublic.blob.core.windows.net/minecraft-rl/models/2x.model"
   ]
  },
  {
   "cell_type": "code",
   "execution_count": 22,
   "id": "279cd3e2-3402-4cd0-b23a-102f032a8271",
   "metadata": {},
   "outputs": [
    {
     "name": "stdout",
     "output_type": "stream",
     "text": [
      "Overwriting stab.py\n"
     ]
    }
   ],
   "source": [
    "%%file stab.py\n",
    "import pickle\n",
    "import numpy as np\n",
    "from gym.spaces import Box, Discrete, MultiDiscrete\n",
    "from gym.wrappers import Monitor, TimeLimit\n",
    "from minetest_env import Minetest\n",
    "from stable_baselines3 import PPO\n",
    "from typing import Optional, Dict, Any\n",
    "from stable_baselines3.common.vec_env import SubprocVecEnv, DummyVecEnv\n",
    "import gym\n",
    "import gc\n",
    "import sys\n",
    "if \"./vpt-minetest\" not in sys.path:\n",
    "    sys.path.append(\"./vpt-minetest\")\n",
    "from agent import MineRLAgent\n",
    "from run_vpt_agent import minetest_to_minerl_obs, minerl_to_minetest_action\n",
    "\n",
    "\n",
    "model, weights, video_dir, minetest_path, max_steps, show, seed, show_agent_pov = \"2x.model\", \"foundation-model-2x.weights\", \"videos\", \"../bin/minetest\", 100000, False, 32, False\n",
    "\n",
    "\n",
    "\n",
    "class DiscreteActions(gym.ActionWrapper):\n",
    "    def __init__(self, env, discretes=27):\n",
    "        self.env = env\n",
    "        self.discretes = discretes\n",
    "        sizes = []\n",
    "        self.vals = []\n",
    "        for i, v in env.action_space.spaces.items():\n",
    "            self.vals.append(len(sizes))\n",
    "            if isinstance(v, Discrete):\n",
    "                sizes.append(v.n)\n",
    "            elif isinstance(v, Box):\n",
    "                for _ in v.low:\n",
    "                    sizes.append(discretes)\n",
    "                \n",
    "        self.action_space = MultiDiscrete(sizes)  # TODO\n",
    "    \n",
    "    def action(self, act):\n",
    "        return {k: (np.asarray(act[i:i+len(v.low)]) / self.discretes * (v.high - v.low) + v.low\n",
    "                    if isinstance(v, Box) else act[i]).astype(v.dtype)\n",
    "                for i, (k, v) in zip(self.vals, self.env.action_space.spaces.items())}\n",
    "\n",
    "def make_env(\n",
    "    minetest_path: str,\n",
    "    rank: int,\n",
    "    seed: int = 0,\n",
    "    max_steps: int = 1e9,\n",
    "    env_kwargs: Optional[Dict[str, Any]] = None,\n",
    "):\n",
    "    env_kwargs = env_kwargs or {}\n",
    "\n",
    "    def _init():\n",
    "        # Make sure that each Minetest instance has\n",
    "        # - different server and client ports\n",
    "        # - different and deterministic seeds\n",
    "        env = Minetest(\n",
    "            env_port=5555 + rank,\n",
    "            server_port=30000 + rank,\n",
    "            # seed=seed + rank,\n",
    "            world_dir=\"../worlds/myworld\",\n",
    "            minetest_executable=minetest_path,\n",
    "            xvfb_headless=True,\n",
    "            config_path=\"../minetest.conf\",\n",
    "            **env_kwargs,\n",
    "        )\n",
    "        env.reset_world = True\n",
    "        env = TimeLimit(env, max_episode_steps=max_steps)\n",
    "        env = DiscreteActions(env)\n",
    "        return env\n",
    "\n",
    "    return _init\n",
    "\n",
    "# Env settings\n",
    "seed = 42\n",
    "max_steps = 100\n",
    "env_kwargs = {\"display_size\": (600, 400), \"fov\": 72}\n",
    "\n",
    "# Create a vectorized environment\n",
    "num_envs = 2  # Number of envs to use (<= number of avail. cpus)\n",
    "# vec_env_cls = SubprocVecEnv\n",
    "vec_env_cls = DummyVecEnv\n",
    "venv = vec_env_cls(\n",
    "    [\n",
    "        make_env(minetest_path=minetest_path, rank=i, seed=seed, max_steps=max_steps, env_kwargs=env_kwargs)\n",
    "        for i in range(num_envs)\n",
    "    ],\n",
    ")\n",
    "\n",
    "print(\"---Loading model---\")\n",
    "agent_parameters = pickle.load(open(model, \"rb\"))\n",
    "policy_kwargs = agent_parameters[\"model\"][\"args\"][\"net\"][\"args\"]\n",
    "pi_head_kwargs = agent_parameters[\"model\"][\"args\"][\"pi_head_opts\"]\n",
    "pi_head_kwargs[\"temperature\"] = float(pi_head_kwargs[\"temperature\"])\n",
    "agent = MineRLAgent(\n",
    "    venv,\n",
    "    policy_kwargs=policy_kwargs,\n",
    "    pi_head_kwargs=pi_head_kwargs,\n",
    "    show_agent_perspective=show_agent_pov,\n",
    ")\n",
    "agent.load_weights(weights)\n",
    "\n",
    "from wandb.integration.sb3 import WandbCallback\n",
    "# ppo = PPO(\"CnnPolicy\", venv, verbose=1, callback=WandbCallback())\n",
    "ppo = PPO(\"CnnPolicy\", venv, verbose=1)\n",
    "ppo.learn(total_timesteps=25000)\n",
    "\n",
    "# print(\"---Launching Minetest enviroment---\")\n",
    "# obs = minetest_to_minerl_obs(env.reset())\n",
    "# done = False\n",
    "# while not done:\n",
    "#     minerl_action = agent.get_action(obs)\n",
    "#     minetest_action = minerl_to_minetest_action(minerl_action, env)\n",
    "#     obs, reward, done, info = env.step(minetest_action)\n",
    "#     obs = minetest_to_minerl_obs(obs)\n",
    "#     if show:\n",
    "#         env.render()\n",
    "# env.close()"
   ]
  },
  {
   "cell_type": "code",
   "execution_count": 23,
   "id": "964ce28d-b0a5-4267-9318-2b28d2c79426",
   "metadata": {},
   "outputs": [
    {
     "name": "stdout",
     "output_type": "stream",
     "text": [
      "minetest: no process found\n",
      "---Loading model---\n",
      "Using cuda device\n",
      "Wrapping the env in a VecTransposeImage.\n",
      "Traceback (most recent call last):\n",
      "  File \"stab.py\", line 105, in <module>\n",
      "    ppo.learn(total_timesteps=25000)\n",
      "  File \"/home/ax37/anaconda3/lib/python3.8/site-packages/stable_baselines3/ppo/ppo.py\", line 317, in learn\n",
      "    return super().learn(\n",
      "  File \"/home/ax37/anaconda3/lib/python3.8/site-packages/stable_baselines3/common/on_policy_algorithm.py\", line 246, in learn\n",
      "    total_timesteps, callback = self._setup_learn(\n",
      "  File \"/home/ax37/anaconda3/lib/python3.8/site-packages/stable_baselines3/common/base_class.py\", line 489, in _setup_learn\n",
      "    self._last_obs = self.env.reset()  # pytype: disable=annotation-type-mismatch\n",
      "  File \"/home/ax37/anaconda3/lib/python3.8/site-packages/stable_baselines3/common/vec_env/vec_transpose.py\", line 110, in reset\n",
      "    return self.transpose_observations(self.venv.reset())\n",
      "  File \"/home/ax37/anaconda3/lib/python3.8/site-packages/stable_baselines3/common/vec_env/dummy_vec_env.py\", line 64, in reset\n",
      "    self._save_obs(env_idx, obs)\n",
      "  File \"/home/ax37/anaconda3/lib/python3.8/site-packages/stable_baselines3/common/vec_env/dummy_vec_env.py\", line 94, in _save_obs\n",
      "    self.buf_obs[key][env_idx] = obs\n",
      "ValueError: could not broadcast input array from shape (0,0,3) into shape (400,600,3)\n"
     ]
    }
   ],
   "source": [
    "!killall minetest\n",
    "!python stab.py"
   ]
  }
 ],
 "metadata": {
  "kernelspec": {
   "display_name": "Python 3 (ipykernel)",
   "language": "python",
   "name": "python3"
  },
  "language_info": {
   "codemirror_mode": {
    "name": "ipython",
    "version": 3
   },
   "file_extension": ".py",
   "mimetype": "text/x-python",
   "name": "python",
   "nbconvert_exporter": "python",
   "pygments_lexer": "ipython3",
   "version": "3.8.8"
  }
 },
 "nbformat": 4,
 "nbformat_minor": 5
}
