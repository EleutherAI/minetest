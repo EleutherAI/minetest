{
 "cells": [
  {
   "cell_type": "code",
   "execution_count": 1,
   "id": "b7120aaa-4083-4b42-9ef9-696782ebd1e8",
   "metadata": {},
   "outputs": [
    {
     "name": "stdout",
     "output_type": "stream",
     "text": [
      "Looking in indexes: https://pypi.org/simple, https://pypi.ngc.nvidia.com\n",
      "Requirement already satisfied: stable-baselines3 in /home/ax37/anaconda3/lib/python3.8/site-packages (1.6.2)\n",
      "Requirement already satisfied: numpy in /home/ax37/anaconda3/lib/python3.8/site-packages (from stable-baselines3) (1.22.0)\n",
      "Requirement already satisfied: torch>=1.11 in /home/ax37/anaconda3/lib/python3.8/site-packages (from stable-baselines3) (1.13.0)\n",
      "Requirement already satisfied: pandas in /home/ax37/anaconda3/lib/python3.8/site-packages (from stable-baselines3) (1.4.4)\n",
      "Requirement already satisfied: cloudpickle in /home/ax37/anaconda3/lib/python3.8/site-packages (from stable-baselines3) (2.2.0)\n",
      "Requirement already satisfied: importlib-metadata~=4.13 in /home/ax37/anaconda3/lib/python3.8/site-packages (from stable-baselines3) (4.13.0)\n",
      "Requirement already satisfied: matplotlib in /home/ax37/anaconda3/lib/python3.8/site-packages (from stable-baselines3) (3.5.2)\n",
      "Requirement already satisfied: gym==0.21 in /home/ax37/anaconda3/lib/python3.8/site-packages (from stable-baselines3) (0.21.0)\n",
      "Requirement already satisfied: zipp>=0.5 in /home/ax37/anaconda3/lib/python3.8/site-packages (from importlib-metadata~=4.13->stable-baselines3) (3.8.1)\n",
      "Requirement already satisfied: nvidia-cublas-cu11==11.10.3.66 in /home/ax37/anaconda3/lib/python3.8/site-packages (from torch>=1.11->stable-baselines3) (11.10.3.66)\n",
      "Requirement already satisfied: nvidia-cuda-runtime-cu11==11.7.99 in /home/ax37/anaconda3/lib/python3.8/site-packages (from torch>=1.11->stable-baselines3) (11.7.99)\n",
      "Requirement already satisfied: nvidia-cuda-nvrtc-cu11==11.7.99 in /home/ax37/anaconda3/lib/python3.8/site-packages (from torch>=1.11->stable-baselines3) (11.7.99)\n",
      "Requirement already satisfied: nvidia-cudnn-cu11==8.5.0.96 in /home/ax37/anaconda3/lib/python3.8/site-packages (from torch>=1.11->stable-baselines3) (8.5.0.96)\n",
      "Requirement already satisfied: typing-extensions in /home/ax37/anaconda3/lib/python3.8/site-packages (from torch>=1.11->stable-baselines3) (4.4.0)\n",
      "Requirement already satisfied: setuptools in /home/ax37/anaconda3/lib/python3.8/site-packages (from nvidia-cublas-cu11==11.10.3.66->torch>=1.11->stable-baselines3) (65.6.3)\n",
      "Requirement already satisfied: wheel in /home/ax37/anaconda3/lib/python3.8/site-packages (from nvidia-cublas-cu11==11.10.3.66->torch>=1.11->stable-baselines3) (0.38.4)\n",
      "Requirement already satisfied: fonttools>=4.22.0 in /home/ax37/anaconda3/lib/python3.8/site-packages (from matplotlib->stable-baselines3) (4.34.4)\n",
      "Requirement already satisfied: packaging>=20.0 in /home/ax37/anaconda3/lib/python3.8/site-packages (from matplotlib->stable-baselines3) (21.3)\n",
      "Requirement already satisfied: python-dateutil>=2.7 in /home/ax37/anaconda3/lib/python3.8/site-packages (from matplotlib->stable-baselines3) (2.8.2)\n",
      "Requirement already satisfied: pyparsing>=2.2.1 in /home/ax37/anaconda3/lib/python3.8/site-packages (from matplotlib->stable-baselines3) (3.0.9)\n",
      "Requirement already satisfied: kiwisolver>=1.0.1 in /home/ax37/anaconda3/lib/python3.8/site-packages (from matplotlib->stable-baselines3) (1.4.4)\n",
      "Requirement already satisfied: pillow>=6.2.0 in /home/ax37/anaconda3/lib/python3.8/site-packages (from matplotlib->stable-baselines3) (9.3.0)\n",
      "Requirement already satisfied: cycler>=0.10 in /home/ax37/anaconda3/lib/python3.8/site-packages (from matplotlib->stable-baselines3) (0.11.0)\n",
      "Requirement already satisfied: pytz>=2020.1 in /home/ax37/anaconda3/lib/python3.8/site-packages (from pandas->stable-baselines3) (2022.6)\n",
      "Requirement already satisfied: six>=1.5 in /home/ax37/anaconda3/lib/python3.8/site-packages (from python-dateutil>=2.7->matplotlib->stable-baselines3) (1.16.0)\n",
      "\u001b[33mWARNING: There was an error checking the latest version of pip.\u001b[0m\u001b[33m\n",
      "\u001b[0m"
     ]
    }
   ],
   "source": [
    "!pip install stable-baselines3\n",
    "import stable_baselines3"
   ]
  },
  {
   "cell_type": "code",
   "execution_count": 2,
   "id": "30299731-ef99-4e99-b556-7bbfa362f69c",
   "metadata": {},
   "outputs": [
    {
     "name": "stdout",
     "output_type": "stream",
     "text": [
      "fatal: destination path 'vpt-minetest' already exists and is not an empty directory.\n"
     ]
    }
   ],
   "source": [
    "!git clone https://github.com/rk1a/vpt-minetest\n",
    "import sys\n",
    "if \"./vpt-minetest\" not in sys.path:\n",
    "    sys.path.append(\"./vpt-minetest\")"
   ]
  },
  {
   "cell_type": "code",
   "execution_count": 3,
   "id": "6d03423d-4f8c-41c7-a51c-4027d64e4446",
   "metadata": {},
   "outputs": [
    {
     "name": "stdout",
     "output_type": "stream",
     "text": [
      "--2023-01-29 14:27:30--  https://openaipublic.blob.core.windows.net/minecraft-rl/models/foundation-model-2x.weights\n",
      "Resolving openaipublic.blob.core.windows.net (openaipublic.blob.core.windows.net)... failed: Temporary failure in name resolution.\n",
      "wget: unable to resolve host address ‘openaipublic.blob.core.windows.net’\n",
      "--2023-01-29 14:27:30--  https://openaipublic.blob.core.windows.net/minecraft-rl/models/2x.model\n",
      "Resolving openaipublic.blob.core.windows.net (openaipublic.blob.core.windows.net)... failed: Temporary failure in name resolution.\n",
      "wget: unable to resolve host address ‘openaipublic.blob.core.windows.net’\n"
     ]
    }
   ],
   "source": [
    "!wget -c https://openaipublic.blob.core.windows.net/minecraft-rl/models/foundation-model-2x.weights\n",
    "!wget -c https://openaipublic.blob.core.windows.net/minecraft-rl/models/2x.model"
   ]
  },
  {
   "cell_type": "code",
   "execution_count": 4,
   "id": "a85d372e-0513-48fe-a1b5-5c37f06e3f94",
   "metadata": {},
   "outputs": [],
   "source": [
    "%load_ext autoreload\n",
    "%autoreload 2"
   ]
  },
  {
   "cell_type": "code",
   "execution_count": 20,
   "id": "279cd3e2-3402-4cd0-b23a-102f032a8271",
   "metadata": {},
   "outputs": [
    {
     "name": "stdout",
     "output_type": "stream",
     "text": [
      "---Loading model---\n",
      "Using cuda device\n",
      "Wrapping the env in a VecTransposeImage.\n"
     ]
    },
    {
     "ename": "KeyboardInterrupt",
     "evalue": "",
     "output_type": "error",
     "traceback": [
      "\u001b[0;31m---------------------------------------------------------------------------\u001b[0m",
      "\u001b[0;31mKeyboardInterrupt\u001b[0m                         Traceback (most recent call last)",
      "Cell \u001b[0;32mIn[20], line 107\u001b[0m\n\u001b[1;32m    104\u001b[0m agent\u001b[38;5;241m.\u001b[39mload_weights(weights)\n\u001b[1;32m    106\u001b[0m ppo \u001b[38;5;241m=\u001b[39m PPO(\u001b[38;5;124m\"\u001b[39m\u001b[38;5;124mCnnPolicy\u001b[39m\u001b[38;5;124m\"\u001b[39m, venv, verbose\u001b[38;5;241m=\u001b[39m\u001b[38;5;241m1\u001b[39m)\n\u001b[0;32m--> 107\u001b[0m \u001b[43mppo\u001b[49m\u001b[38;5;241;43m.\u001b[39;49m\u001b[43mlearn\u001b[49m\u001b[43m(\u001b[49m\u001b[43mtotal_timesteps\u001b[49m\u001b[38;5;241;43m=\u001b[39;49m\u001b[38;5;241;43m25000\u001b[39;49m\u001b[43m)\u001b[49m\n\u001b[1;32m    109\u001b[0m \u001b[38;5;66;03m# print(\"---Launching Minetest enviroment---\")\u001b[39;00m\n\u001b[1;32m    110\u001b[0m \u001b[38;5;66;03m# obs = minetest_to_minerl_obs(env.reset())\u001b[39;00m\n\u001b[1;32m    111\u001b[0m \u001b[38;5;66;03m# done = False\u001b[39;00m\n\u001b[0;32m   (...)\u001b[0m\n\u001b[1;32m    118\u001b[0m \u001b[38;5;66;03m#         env.render()\u001b[39;00m\n\u001b[1;32m    119\u001b[0m \u001b[38;5;66;03m# env.close()\u001b[39;00m\n",
      "File \u001b[0;32m~/anaconda3/lib/python3.8/site-packages/stable_baselines3/ppo/ppo.py:317\u001b[0m, in \u001b[0;36mPPO.learn\u001b[0;34m(self, total_timesteps, callback, log_interval, eval_env, eval_freq, n_eval_episodes, tb_log_name, eval_log_path, reset_num_timesteps, progress_bar)\u001b[0m\n\u001b[1;32m    303\u001b[0m \u001b[38;5;28;01mdef\u001b[39;00m \u001b[38;5;21mlearn\u001b[39m(\n\u001b[1;32m    304\u001b[0m     \u001b[38;5;28mself\u001b[39m: PPOSelf,\n\u001b[1;32m    305\u001b[0m     total_timesteps: \u001b[38;5;28mint\u001b[39m,\n\u001b[0;32m   (...)\u001b[0m\n\u001b[1;32m    314\u001b[0m     progress_bar: \u001b[38;5;28mbool\u001b[39m \u001b[38;5;241m=\u001b[39m \u001b[38;5;28;01mFalse\u001b[39;00m,\n\u001b[1;32m    315\u001b[0m ) \u001b[38;5;241m-\u001b[39m\u001b[38;5;241m>\u001b[39m PPOSelf:\n\u001b[0;32m--> 317\u001b[0m     \u001b[38;5;28;01mreturn\u001b[39;00m \u001b[38;5;28;43msuper\u001b[39;49m\u001b[43m(\u001b[49m\u001b[43m)\u001b[49m\u001b[38;5;241;43m.\u001b[39;49m\u001b[43mlearn\u001b[49m\u001b[43m(\u001b[49m\n\u001b[1;32m    318\u001b[0m \u001b[43m        \u001b[49m\u001b[43mtotal_timesteps\u001b[49m\u001b[38;5;241;43m=\u001b[39;49m\u001b[43mtotal_timesteps\u001b[49m\u001b[43m,\u001b[49m\n\u001b[1;32m    319\u001b[0m \u001b[43m        \u001b[49m\u001b[43mcallback\u001b[49m\u001b[38;5;241;43m=\u001b[39;49m\u001b[43mcallback\u001b[49m\u001b[43m,\u001b[49m\n\u001b[1;32m    320\u001b[0m \u001b[43m        \u001b[49m\u001b[43mlog_interval\u001b[49m\u001b[38;5;241;43m=\u001b[39;49m\u001b[43mlog_interval\u001b[49m\u001b[43m,\u001b[49m\n\u001b[1;32m    321\u001b[0m \u001b[43m        \u001b[49m\u001b[43meval_env\u001b[49m\u001b[38;5;241;43m=\u001b[39;49m\u001b[43meval_env\u001b[49m\u001b[43m,\u001b[49m\n\u001b[1;32m    322\u001b[0m \u001b[43m        \u001b[49m\u001b[43meval_freq\u001b[49m\u001b[38;5;241;43m=\u001b[39;49m\u001b[43meval_freq\u001b[49m\u001b[43m,\u001b[49m\n\u001b[1;32m    323\u001b[0m \u001b[43m        \u001b[49m\u001b[43mn_eval_episodes\u001b[49m\u001b[38;5;241;43m=\u001b[39;49m\u001b[43mn_eval_episodes\u001b[49m\u001b[43m,\u001b[49m\n\u001b[1;32m    324\u001b[0m \u001b[43m        \u001b[49m\u001b[43mtb_log_name\u001b[49m\u001b[38;5;241;43m=\u001b[39;49m\u001b[43mtb_log_name\u001b[49m\u001b[43m,\u001b[49m\n\u001b[1;32m    325\u001b[0m \u001b[43m        \u001b[49m\u001b[43meval_log_path\u001b[49m\u001b[38;5;241;43m=\u001b[39;49m\u001b[43meval_log_path\u001b[49m\u001b[43m,\u001b[49m\n\u001b[1;32m    326\u001b[0m \u001b[43m        \u001b[49m\u001b[43mreset_num_timesteps\u001b[49m\u001b[38;5;241;43m=\u001b[39;49m\u001b[43mreset_num_timesteps\u001b[49m\u001b[43m,\u001b[49m\n\u001b[1;32m    327\u001b[0m \u001b[43m        \u001b[49m\u001b[43mprogress_bar\u001b[49m\u001b[38;5;241;43m=\u001b[39;49m\u001b[43mprogress_bar\u001b[49m\u001b[43m,\u001b[49m\n\u001b[1;32m    328\u001b[0m \u001b[43m    \u001b[49m\u001b[43m)\u001b[49m\n",
      "File \u001b[0;32m~/anaconda3/lib/python3.8/site-packages/stable_baselines3/common/on_policy_algorithm.py:262\u001b[0m, in \u001b[0;36mOnPolicyAlgorithm.learn\u001b[0;34m(self, total_timesteps, callback, log_interval, eval_env, eval_freq, n_eval_episodes, tb_log_name, eval_log_path, reset_num_timesteps, progress_bar)\u001b[0m\n\u001b[1;32m    258\u001b[0m callback\u001b[38;5;241m.\u001b[39mon_training_start(\u001b[38;5;28mlocals\u001b[39m(), \u001b[38;5;28mglobals\u001b[39m())\n\u001b[1;32m    260\u001b[0m \u001b[38;5;28;01mwhile\u001b[39;00m \u001b[38;5;28mself\u001b[39m\u001b[38;5;241m.\u001b[39mnum_timesteps \u001b[38;5;241m<\u001b[39m total_timesteps:\n\u001b[0;32m--> 262\u001b[0m     continue_training \u001b[38;5;241m=\u001b[39m \u001b[38;5;28;43mself\u001b[39;49m\u001b[38;5;241;43m.\u001b[39;49m\u001b[43mcollect_rollouts\u001b[49m\u001b[43m(\u001b[49m\u001b[38;5;28;43mself\u001b[39;49m\u001b[38;5;241;43m.\u001b[39;49m\u001b[43menv\u001b[49m\u001b[43m,\u001b[49m\u001b[43m \u001b[49m\u001b[43mcallback\u001b[49m\u001b[43m,\u001b[49m\u001b[43m \u001b[49m\u001b[38;5;28;43mself\u001b[39;49m\u001b[38;5;241;43m.\u001b[39;49m\u001b[43mrollout_buffer\u001b[49m\u001b[43m,\u001b[49m\u001b[43m \u001b[49m\u001b[43mn_rollout_steps\u001b[49m\u001b[38;5;241;43m=\u001b[39;49m\u001b[38;5;28;43mself\u001b[39;49m\u001b[38;5;241;43m.\u001b[39;49m\u001b[43mn_steps\u001b[49m\u001b[43m)\u001b[49m\n\u001b[1;32m    264\u001b[0m     \u001b[38;5;28;01mif\u001b[39;00m continue_training \u001b[38;5;129;01mis\u001b[39;00m \u001b[38;5;28;01mFalse\u001b[39;00m:\n\u001b[1;32m    265\u001b[0m         \u001b[38;5;28;01mbreak\u001b[39;00m\n",
      "File \u001b[0;32m~/anaconda3/lib/python3.8/site-packages/stable_baselines3/common/on_policy_algorithm.py:172\u001b[0m, in \u001b[0;36mOnPolicyAlgorithm.collect_rollouts\u001b[0;34m(self, env, callback, rollout_buffer, n_rollout_steps)\u001b[0m\n\u001b[1;32m    169\u001b[0m \u001b[38;5;28;01mwith\u001b[39;00m th\u001b[38;5;241m.\u001b[39mno_grad():\n\u001b[1;32m    170\u001b[0m     \u001b[38;5;66;03m# Convert to pytorch tensor or to TensorDict\u001b[39;00m\n\u001b[1;32m    171\u001b[0m     obs_tensor \u001b[38;5;241m=\u001b[39m obs_as_tensor(\u001b[38;5;28mself\u001b[39m\u001b[38;5;241m.\u001b[39m_last_obs, \u001b[38;5;28mself\u001b[39m\u001b[38;5;241m.\u001b[39mdevice)\n\u001b[0;32m--> 172\u001b[0m     actions, values, log_probs \u001b[38;5;241m=\u001b[39m \u001b[38;5;28mself\u001b[39m\u001b[38;5;241m.\u001b[39mpolicy(obs_tensor)\n\u001b[1;32m    173\u001b[0m actions \u001b[38;5;241m=\u001b[39m actions\u001b[38;5;241m.\u001b[39mcpu()\u001b[38;5;241m.\u001b[39mnumpy()\n\u001b[1;32m    175\u001b[0m \u001b[38;5;66;03m# Rescale and perform action\u001b[39;00m\n",
      "File \u001b[0;32m~/anaconda3/lib/python3.8/site-packages/torch/autograd/grad_mode.py:136\u001b[0m, in \u001b[0;36mno_grad.__exit__\u001b[0;34m(self, exc_type, exc_value, traceback)\u001b[0m\n\u001b[1;32m    135\u001b[0m \u001b[38;5;28;01mdef\u001b[39;00m \u001b[38;5;21m__exit__\u001b[39m(\u001b[38;5;28mself\u001b[39m, exc_type: Any, exc_value: Any, traceback: Any) \u001b[38;5;241m-\u001b[39m\u001b[38;5;241m>\u001b[39m \u001b[38;5;28;01mNone\u001b[39;00m:\n\u001b[0;32m--> 136\u001b[0m     \u001b[43mtorch\u001b[49m\u001b[38;5;241;43m.\u001b[39;49m\u001b[43mset_grad_enabled\u001b[49m(\u001b[38;5;28mself\u001b[39m\u001b[38;5;241m.\u001b[39mprev)\n",
      "\u001b[0;31mKeyboardInterrupt\u001b[0m: "
     ]
    },
    {
     "data": {
      "text/plain": [
       "<Figure size 640x480 with 0 Axes>"
      ]
     },
     "metadata": {},
     "output_type": "display_data"
    }
   ],
   "source": [
    "import pickle\n",
    "import numpy as np\n",
    "from agent import MineRLAgent\n",
    "from gym.spaces import Box, Discrete, MultiDiscrete\n",
    "from gym.wrappers import Monitor, TimeLimit\n",
    "from minetest_env import Minetest\n",
    "from stable_baselines3 import PPO\n",
    "from typing import Optional, Dict, Any\n",
    "from run_vpt_agent import minetest_to_minerl_obs, minerl_to_minetest_action\n",
    "from stable_baselines3.common.vec_env import SubprocVecEnv, DummyVecEnv\n",
    "import gym\n",
    "import gc\n",
    "\n",
    "\n",
    "for _ in range(2):\n",
    "    !killall minetest\n",
    "    try:\n",
    "        del venv\n",
    "        del agent\n",
    "        del ppo\n",
    "    except NameError:\n",
    "        pass\n",
    "    gc.collect()\n",
    "\n",
    "\n",
    "model, weights, video_dir, minetest_path, max_steps, show, seed, show_agent_pov = \"2x.model\", \"foundation-model-2x.weights\", \"videos\", \"../bin/minetest\", 100000, False, 32, False\n",
    "\n",
    "\n",
    "\n",
    "class DiscreteActions(gym.ActionWrapper):\n",
    "    def __init__(self, env, discretes=27):\n",
    "        self.env = env\n",
    "        self.discretes = discretes\n",
    "        sizes = []\n",
    "        self.vals = []\n",
    "        for i, v in env.action_space.spaces.items():\n",
    "            self.vals.append(len(sizes))\n",
    "            if isinstance(v, Discrete):\n",
    "                sizes.append(v.n)\n",
    "            elif isinstance(v, Box):\n",
    "                for _ in v.low:\n",
    "                    sizes.append(discretes)\n",
    "                \n",
    "        self.action_space = MultiDiscrete(sizes)  # TODO\n",
    "    \n",
    "    def action(self, act):\n",
    "        return {k: (np.asarray(act[i:i+len(v.low)]) / self.discretes * (v.high - v.low) + v.low\n",
    "                    if isinstance(v, Box) else act[i]).astype(v.dtype)\n",
    "                for i, (k, v) in zip(self.vals, self.env.action_space.spaces.items())}\n",
    "\n",
    "def make_env(\n",
    "    minetest_path: str,\n",
    "    rank: int,\n",
    "    seed: int = 0,\n",
    "    max_steps: int = 1e9,\n",
    "    env_kwargs: Optional[Dict[str, Any]] = None,\n",
    "):\n",
    "    env_kwargs = env_kwargs or {}\n",
    "\n",
    "    def _init():\n",
    "        # Make sure that each Minetest instance has\n",
    "        # - different server and client ports\n",
    "        # - different and deterministic seeds\n",
    "        env = Minetest(\n",
    "            env_port=5555 + rank,\n",
    "            server_port=30000 + rank,\n",
    "            seed=seed + rank,\n",
    "            minetest_executable=minetest_path,\n",
    "            **env_kwargs,\n",
    "        )\n",
    "        env = TimeLimit(env, max_episode_steps=max_steps)\n",
    "        env = DiscreteActions(env)\n",
    "        return env\n",
    "\n",
    "    return _init\n",
    "\n",
    "# Env settings\n",
    "seed = 42\n",
    "max_steps = 100\n",
    "env_kwargs = {\"display_size\": (600, 400), \"fov\": 72}\n",
    "\n",
    "# Create a vectorized environment\n",
    "num_envs = 2  # Number of envs to use (<= number of avail. cpus)\n",
    "# vec_env_cls = SubprocVecEnv\n",
    "vec_env_cls = DummyVecEnv\n",
    "venv = vec_env_cls(\n",
    "    [\n",
    "        make_env(minetest_path=minetest_path, rank=i, seed=seed, max_steps=max_steps, env_kwargs=env_kwargs)\n",
    "        for i in range(num_envs)\n",
    "    ],\n",
    ")\n",
    "\n",
    "print(\"---Loading model---\")\n",
    "agent_parameters = pickle.load(open(model, \"rb\"))\n",
    "policy_kwargs = agent_parameters[\"model\"][\"args\"][\"net\"][\"args\"]\n",
    "pi_head_kwargs = agent_parameters[\"model\"][\"args\"][\"pi_head_opts\"]\n",
    "pi_head_kwargs[\"temperature\"] = float(pi_head_kwargs[\"temperature\"])\n",
    "agent = MineRLAgent(\n",
    "    venv,\n",
    "    policy_kwargs=policy_kwargs,\n",
    "    pi_head_kwargs=pi_head_kwargs,\n",
    "    show_agent_perspective=show_agent_pov,\n",
    ")\n",
    "agent.load_weights(weights)\n",
    "\n",
    "ppo = PPO(\"CnnPolicy\", venv, verbose=1)\n",
    "ppo.learn(total_timesteps=25000)\n",
    "\n",
    "# print(\"---Launching Minetest enviroment---\")\n",
    "# obs = minetest_to_minerl_obs(env.reset())\n",
    "# done = False\n",
    "# while not done:\n",
    "#     minerl_action = agent.get_action(obs)\n",
    "#     minetest_action = minerl_to_minetest_action(minerl_action, env)\n",
    "#     obs, reward, done, info = env.step(minetest_action)\n",
    "#     obs = minetest_to_minerl_obs(obs)\n",
    "#     if show:\n",
    "#         env.render()\n",
    "# env.close()"
   ]
  }
 ],
 "metadata": {
  "kernelspec": {
   "display_name": "Python 3 (ipykernel)",
   "language": "python",
   "name": "python3"
  },
  "language_info": {
   "codemirror_mode": {
    "name": "ipython",
    "version": 3
   },
   "file_extension": ".py",
   "mimetype": "text/x-python",
   "name": "python",
   "nbconvert_exporter": "python",
   "pygments_lexer": "ipython3",
   "version": "3.8.8"
  }
 },
 "nbformat": 4,
 "nbformat_minor": 5
}
